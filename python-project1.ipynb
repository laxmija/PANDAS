{
 "cells": [
  {
   "cell_type": "markdown",
   "metadata": {},
   "source": [
    "I'm trying to create a simple Caesar Cipher function in Python that shifts letters based on input from the user and creates a final, new string at the end. The only problem is that the final cipher text shows only the last shifted character, not an entire string with all the shifted characters."
   ]
  },
  {
   "cell_type": "code",
   "execution_count": null,
   "metadata": {},
   "outputs": [],
   "source": [
    "def encrypt():\n",
    "    plainText = input(\"What is your plaintext? \")\n",
    "    shift = int(input(\"What is your shift? \"))\n",
    "    cipherText = \"\"\n",
    "    for ch in plainText:\n",
    "        if ch.isalpha():\n",
    "            stayInAlphabet = ord(ch) + shift\n",
    "        if stayInAlphabet > ord('z'):\n",
    "            stayInAlphabet -= 26\n",
    "        finalLetter = chr(stayInAlphabet)\n",
    "        cipherText += finalLetter\n",
    "\n",
    "    print (\"Your ciphertext is: \", cipherText,\"with a shift of\",shift)\n",
    "\n",
    "\n",
    "def decrypte():\n",
    "    encryption=input(\"enter in your encrypted code\")\n",
    "    encryption_shift=int(input(\"enter in your encryption shift\"))\n",
    "\n",
    "    cipherText1 = \"\"\n",
    "    for c in encryption:\n",
    "        if c.isalpha():\n",
    "            stayInAlphabet1 = ord(c) - encryption_shift\n",
    "        if stayInAlphabet1 > ord('z'):\n",
    "            stayInAlphabet1 += 26\n",
    "        finalLetter1 = chr(stayInAlphabet1)\n",
    "        cipherText1 += finalLetter1\n",
    "\n",
    "    print (\"Your ciphertext is: \", cipherText1,\"with negative shift of\",encryption_shift)\n",
    "\n",
    "from tkinter import *\n",
    "\n",
    "menu=Tk()\n",
    "menu.title(\"menu\")\n",
    "menu.geometry(\"300x300\")\n",
    "button1= Button(menu,text=\"encrypt\",command=encrypt)\n",
    "button1.pack()\n",
    "\n",
    "button2= Button(menu,text=\"decrypt\",command=decrypte)\n",
    "button2.pack()\n",
    "\n",
    "button3= Button(menu,text=\"exit\",command=exit)\n",
    "button3.pack()\n",
    "\n",
    "menu.mainloop()"
   ]
  },
  {
   "cell_type": "code",
   "execution_count": null,
   "metadata": {},
   "outputs": [],
   "source": []
  }
 ],
 "metadata": {
  "kernelspec": {
   "display_name": "Python 3",
   "language": "python",
   "name": "python3"
  },
  "language_info": {
   "codemirror_mode": {
    "name": "ipython",
    "version": 3
   },
   "file_extension": ".py",
   "mimetype": "text/x-python",
   "name": "python",
   "nbconvert_exporter": "python",
   "pygments_lexer": "ipython3",
   "version": "3.7.0"
  }
 },
 "nbformat": 4,
 "nbformat_minor": 2
}
