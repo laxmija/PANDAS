{
 "cells": [
  {
   "cell_type": "markdown",
   "metadata": {},
   "source": [
    "1) How-to-count-distance-to-the-previous-zero\n",
    "For each value, count the difference of the distance from the previous zero (or the start\n",
    "of the Series, whichever is closer) and if there are no previous zeros,print the position\n",
    "Consider a DataFrame df where there is an integer column {'X':[7, 2, 0, 3, 4, 2, 5, 0, 3, 4]}\n",
    "The values should therefore be [1, 2, 0, 1, 2, 3, 4, 0, 1, 2]. Make this a new column 'Y'.\n",
    "import pandas as pd\n",
    "df = pd.DataFrame({'X': [7, 2, 0, 3, 4, 2, 5, 0, 3, 4]})\n"
   ]
  },
  {
   "cell_type": "code",
   "execution_count": 3,
   "metadata": {},
   "outputs": [
    {
     "data": {
      "text/plain": [
       "[1, 2, 0, 1, 2, 3, 4, 0, 1, 2]"
      ]
     },
     "execution_count": 3,
     "metadata": {},
     "output_type": "execute_result"
    }
   ],
   "source": [
    "import pandas as pd\n",
    "\n",
    "s = pd.Series([7, 2, 0, 3, 4, 2, 5, 0, 3, 4])\n",
    "\n",
    "(s.groupby(s.eq(0).cumsum().mask(s.eq(0))).cumcount() + 1).mask(s.eq(0), 0).tolist()"
   ]
  },
  {
   "cell_type": "markdown",
   "metadata": {},
   "source": [
    "2) Create a DatetimeIndex that contains each business day of 2015 and use it to index a\n",
    "Series of random numbers."
   ]
  },
  {
   "cell_type": "code",
   "execution_count": 5,
   "metadata": {},
   "outputs": [
    {
     "name": "stdout",
     "output_type": "stream",
     "text": [
      "2015-01-01    0.870276\n",
      "2015-01-02    0.855579\n",
      "2015-01-05    0.859532\n",
      "2015-01-06    0.971658\n",
      "2015-01-07    0.030854\n",
      "2015-01-08    0.860074\n",
      "2015-01-09    0.444465\n",
      "2015-01-12    0.764971\n",
      "2015-01-13    0.562132\n",
      "2015-01-14    0.210104\n",
      "2015-01-15    0.784602\n",
      "2015-01-16    0.662761\n",
      "2015-01-19    0.146420\n",
      "2015-01-20    0.530029\n",
      "2015-01-21    0.052261\n",
      "2015-01-22    0.659356\n",
      "2015-01-23    0.272105\n",
      "2015-01-26    0.525440\n",
      "2015-01-27    0.506126\n",
      "2015-01-28    0.395555\n",
      "2015-01-29    0.660026\n",
      "2015-01-30    0.294978\n",
      "2015-02-02    0.923853\n",
      "2015-02-03    0.448539\n",
      "2015-02-04    0.313405\n",
      "2015-02-05    0.094671\n",
      "2015-02-06    0.731933\n",
      "2015-02-09    0.369472\n",
      "2015-02-10    0.197909\n",
      "2015-02-11    0.088711\n",
      "                ...   \n",
      "2015-11-20    0.108330\n",
      "2015-11-23    0.020720\n",
      "2015-11-24    0.222608\n",
      "2015-11-25    0.769982\n",
      "2015-11-26    0.502547\n",
      "2015-11-27    0.401935\n",
      "2015-11-30    0.294956\n",
      "2015-12-01    0.237654\n",
      "2015-12-02    0.125873\n",
      "2015-12-03    0.196956\n",
      "2015-12-04    0.230845\n",
      "2015-12-07    0.041773\n",
      "2015-12-08    0.851066\n",
      "2015-12-09    0.274316\n",
      "2015-12-10    0.195724\n",
      "2015-12-11    0.282210\n",
      "2015-12-14    0.293742\n",
      "2015-12-15    0.882190\n",
      "2015-12-16    0.868905\n",
      "2015-12-17    0.803064\n",
      "2015-12-18    0.440129\n",
      "2015-12-21    0.351674\n",
      "2015-12-22    0.896790\n",
      "2015-12-23    0.773471\n",
      "2015-12-24    0.618535\n",
      "2015-12-25    0.478441\n",
      "2015-12-28    0.169121\n",
      "2015-12-29    0.437483\n",
      "2015-12-30    0.667227\n",
      "2015-12-31    0.628813\n",
      "Freq: B, Length: 261, dtype: float64\n"
     ]
    }
   ],
   "source": [
    "import numpy as np\n",
    "\n",
    "dti = pd.date_range(start='2015-01-01', end='2015-12-31', freq='B') \n",
    "s = pd.Series(np.random.rand(len(dti)), index=dti)\n",
    "print(s)"
   ]
  },
  {
   "cell_type": "markdown",
   "metadata": {},
   "source": [
    "3) Find the sum of the values in s for every Wednesday"
   ]
  },
  {
   "cell_type": "code",
   "execution_count": 6,
   "metadata": {},
   "outputs": [
    {
     "name": "stdout",
     "output_type": "stream",
     "text": [
      "23.945282238949538\n"
     ]
    }
   ],
   "source": [
    "s[dti.weekday == 2].sum()\n",
    "print(s[dti.weekday == 2].sum())"
   ]
  },
  {
   "cell_type": "markdown",
   "metadata": {},
   "source": [
    "4) Average For each calendar month"
   ]
  },
  {
   "cell_type": "code",
   "execution_count": 12,
   "metadata": {},
   "outputs": [
    {
     "data": {
      "text/plain": [
       "2015-01-31    0.541787\n",
       "2015-02-28    0.518915\n",
       "2015-03-31    0.625196\n",
       "2015-04-30    0.496481\n",
       "2015-05-31    0.658192\n",
       "2015-06-30    0.536038\n",
       "2015-07-31    0.516502\n",
       "2015-08-31    0.542836\n",
       "2015-09-30    0.454276\n",
       "2015-10-31    0.553797\n",
       "2015-11-30    0.343070\n",
       "2015-12-31    0.467218\n",
       "Freq: M, dtype: float64"
      ]
     },
     "execution_count": 12,
     "metadata": {},
     "output_type": "execute_result"
    }
   ],
   "source": [
    "#s.resample('M', how='mean')\n",
    "\n",
    "s.resample('M').mean()"
   ]
  },
  {
   "cell_type": "markdown",
   "metadata": {},
   "source": [
    "5) For each group of four consecutive calendar months in s, find the date on which the\n",
    "highest value occurred."
   ]
  },
  {
   "cell_type": "code",
   "execution_count": 10,
   "metadata": {},
   "outputs": [
    {
     "name": "stderr",
     "output_type": "stream",
     "text": [
      "C:\\ProgramData\\Anaconda3\\lib\\site-packages\\ipykernel_launcher.py:1: FutureWarning: pd.TimeGrouper is deprecated and will be removed; Please use pd.Grouper(freq=...)\n",
      "  \"\"\"Entry point for launching an IPython kernel.\n"
     ]
    },
    {
     "data": {
      "text/plain": [
       "2015-01-31   2015-01-06\n",
       "2015-05-31   2015-05-06\n",
       "2015-09-30   2015-08-14\n",
       "2016-01-31   2015-10-06\n",
       "dtype: datetime64[ns]"
      ]
     },
     "execution_count": 10,
     "metadata": {},
     "output_type": "execute_result"
    }
   ],
   "source": [
    "s.groupby(pd.TimeGrouper('4M')).idxmax()"
   ]
  },
  {
   "cell_type": "code",
   "execution_count": null,
   "metadata": {},
   "outputs": [],
   "source": []
  }
 ],
 "metadata": {
  "kernelspec": {
   "display_name": "Python 3",
   "language": "python",
   "name": "python3"
  },
  "language_info": {
   "codemirror_mode": {
    "name": "ipython",
    "version": 3
   },
   "file_extension": ".py",
   "mimetype": "text/x-python",
   "name": "python",
   "nbconvert_exporter": "python",
   "pygments_lexer": "ipython3",
   "version": "3.7.0"
  }
 },
 "nbformat": 4,
 "nbformat_minor": 2
}
