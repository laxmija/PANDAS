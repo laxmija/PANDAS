{
 "cells": [
  {
   "cell_type": "markdown",
   "metadata": {},
   "source": [
    "1. Write a program in Python with one class called Cipher.\n",
    "Within the constructor of this class, ask user for a string\n",
    "and store it. Use a static variable, key to store a randomly\n",
    "generated integer between 1 and 50 inclusive. Implement\n",
    "two methods, encrypt and decrypt within this class. Encrypt\n",
    "generates and prints a cipher text using the user-entered\n",
    "string and the key and decrypt generates decrypted string\n",
    "from ciphertext. The cipher only encrypts alpha and\n",
    "numeric (A-Z, a-z, 0-9). All Symbols, such as - , ; %, remain\n",
    "unencrypted. The cipher text can have special characters.\n",
    "Use generator expression to filter out alpha and numeric\n",
    "characters of the input string and to generate cipher text.\n",
    "Create an instance of this class, encrypt and decrypt back\n",
    "the user entered string."
   ]
  },
  {
   "cell_type": "code",
   "execution_count": 1,
   "metadata": {},
   "outputs": [],
   "source": [
    "import random\n",
    "import numpy as np\n"
   ]
  },
  {
   "cell_type": "code",
   "execution_count": null,
   "metadata": {},
   "outputs": [],
   "source": []
  },
  {
   "cell_type": "code",
   "execution_count": 2,
   "metadata": {},
   "outputs": [],
   "source": [
    "\n",
    "class Cipher:   \n",
    "    \n",
    "    key = random.randint(1,50)\n",
    "    \n",
    "        \n",
    "def __init__(self,text):\n",
    "        \n",
    "        self.text = text\n",
    "       \n",
    "def encrypt(self): \n",
    "    result = \"\" \n",
    "  \n",
    "    # traverse text \n",
    "    for i in range(len(self.text)): \n",
    "        char = self.text[i] \n",
    "  \n",
    "        # Encrypt uppercase characters \n",
    "        if (char.isupper()): \n",
    "            result += chr((ord(char) + key-65) % 26 + 65) \n",
    "  \n",
    "        # Encrypt lowercase characters \n",
    "        else: \n",
    "            result += chr((ord(char) + key - 97) % 26 + 97) \n",
    "  \n",
    "    return result \n",
    "def decrypt(self):\n",
    "    \"\"\"Decrypt the string and return the plaintext\"\"\"\n",
    "    result = ''\n",
    "\n",
    "    for l in self.text:\n",
    "        try:\n",
    "            i = (key.index(l) - key) % 26\n",
    "            result += key[i]\n",
    "        except ValueError:\n",
    "            result += l\n",
    "\n",
    "    return result"
   ]
  },
  {
   "cell_type": "code",
   "execution_count": null,
   "metadata": {},
   "outputs": [],
   "source": [
    "inputtext = input(\"Please Enter the string : \")\n",
    "p1 = Cipher(inputtext)\n",
    "encrypted = p1.encrypt()\n",
    "print('Encrypted:', encrypted)\n",
    "\n",
    "decrypted = p1.decrypt()\n",
    "print('Decrypted:', decrypted)"
   ]
  },
  {
   "cell_type": "code",
   "execution_count": null,
   "metadata": {},
   "outputs": [],
   "source": []
  },
  {
   "cell_type": "code",
   "execution_count": null,
   "metadata": {},
   "outputs": [],
   "source": []
  }
 ],
 "metadata": {
  "kernelspec": {
   "display_name": "Python 3",
   "language": "python",
   "name": "python3"
  },
  "language_info": {
   "codemirror_mode": {
    "name": "ipython",
    "version": 3
   },
   "file_extension": ".py",
   "mimetype": "text/x-python",
   "name": "python",
   "nbconvert_exporter": "python",
   "pygments_lexer": "ipython3",
   "version": "3.7.0"
  }
 },
 "nbformat": 4,
 "nbformat_minor": 2
}
